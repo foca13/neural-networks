{
 "cells": [
  {
   "cell_type": "markdown",
   "id": "ac48ce30-5288-4d52-b080-873359a6c16e",
   "metadata": {},
   "source": [
    "<h3>Neural Network from scratch</h3>"
   ]
  },
  {
   "cell_type": "markdown",
   "id": "26328659-4880-4b00-aa3c-4f2f0066c1ed",
   "metadata": {
    "tags": []
   },
   "source": [
    "<h4> Data preprocessing </h4>"
   ]
  },
  {
   "cell_type": "markdown",
   "id": "5f2ce6a9-1a64-421f-8477-64adb9350f29",
   "metadata": {},
   "source": [
    "**Load the data from the final project with pandas**"
   ]
  },
  {
   "cell_type": "code",
   "execution_count": 1,
   "id": "42158471-a37a-4a8a-97b7-8653b66728d8",
   "metadata": {},
   "outputs": [],
   "source": [
    "# your code goes here"
   ]
  },
  {
   "cell_type": "markdown",
   "id": "a05611e8-6cac-41a4-889d-dfe0060a4a9c",
   "metadata": {},
   "source": [
    "**Store the labels in a variable called `y` and use keras `to_categorical` to convert your labels to vectors**"
   ]
  },
  {
   "cell_type": "code",
   "execution_count": 2,
   "id": "07c1bc1a-78eb-4a37-b3b1-dbd1a9bb7b1c",
   "metadata": {},
   "outputs": [],
   "source": [
    "import os\n",
    "os.environ['TF_CPP_MIN_LOG_LEVEL'] = '2' \n",
    "\n",
    "from keras.utils import to_categorical\n",
    "\n",
    "# your code goes here"
   ]
  },
  {
   "cell_type": "markdown",
   "id": "30c4f407-8cd8-4c53-baa0-c869a12a08da",
   "metadata": {},
   "source": [
    "**Do the train/test split with 25% of the samples in the test split. Standardize your data with the mean and standard deviation of the features of the training set**"
   ]
  },
  {
   "cell_type": "code",
   "execution_count": 4,
   "id": "920d2347-2b2f-4564-8122-a14fb2ab45ae",
   "metadata": {},
   "outputs": [],
   "source": [
    "# your code goes here"
   ]
  },
  {
   "cell_type": "markdown",
   "id": "0cc6622a-ec33-4a44-bf26-a98da622ed34",
   "metadata": {
    "tags": []
   },
   "source": [
    "**Use PCA to select the first 30 principal components from the 19.000+ genes. Remember that the data is in the *features x observations* format, so you need to transpose the matrix first**"
   ]
  },
  {
   "cell_type": "code",
   "execution_count": 5,
   "id": "15622bc1-f5db-4c60-87b9-7b5df68d2fb2",
   "metadata": {},
   "outputs": [],
   "source": [
    "# your code goes here"
   ]
  },
  {
   "cell_type": "markdown",
   "id": "1a9f8c7f-de0d-4581-887f-7d343d35a455",
   "metadata": {},
   "source": [
    "<h4>Functions used by the neural network</h4>"
   ]
  },
  {
   "cell_type": "markdown",
   "id": "5b58ce56-4c13-4ac0-a723-b1fe262eb9ce",
   "metadata": {},
   "source": [
    "We will now define the functions that will be used by the neural network.\n",
    "\n",
    "The first function we need to define is the activation function sigmoid:\n",
    "\n",
    "\\begin{equation}\n",
    "\\sigma(x) = \\frac{1}{1 + \\exp{-x}}\n",
    "\\end{equation}\n",
    "\n",
    "The derivative of the sigmoid is (conviniently) the following:\n",
    "\n",
    "\\begin{equation}\n",
    "\\frac{d\\sigma(x)}{dx} = (1 - \\sigma(x))·\\sigma(x)\n",
    "\\end{equation}\n",
    "\n",
    "And finally, the cross entropy that we will use as loss function:\n"
   ]
  },
  {
   "cell_type": "code",
   "execution_count": null,
   "id": "e17093a4-435e-4d5e-914f-3b6a77e24d15",
   "metadata": {},
   "outputs": [],
   "source": [
    "def sigmoid(x):\n",
    "    pass\n",
    "\n",
    "def sigmoid_derivative(x):\n",
    "    pass\n",
    "\n",
    "def compute_loss(y_pred, y):\n",
    "    cross_entropy = -np.mean(y * np.log(y_pred) + (1 - y) * np.log(1 - y_pred))\n",
    "    return cross_entropy"
   ]
  },
  {
   "cell_type": "markdown",
   "id": "f3b7def6-15c9-4b09-ba99-6988c5859e45",
   "metadata": {},
   "source": [
    "We will now define the weight matrices of our neural network. For this particular network we will use a single hidden layer with 64 neurons and an output layer which should have as many neurons as the number of classes in our dataset. Initialize the weights with random values."
   ]
  },
  {
   "cell_type": "code",
   "execution_count": null,
   "id": "8ecf8f78-a7ef-4a7d-941e-b02f2d70cbc1",
   "metadata": {},
   "outputs": [],
   "source": [
    "input_shape = 30\n",
    "n_intermediate = 64\n",
    "n_classes = 14\n",
    "\n",
    "w1 = np.random.rand(input_shape, n_intermediate)\n",
    "w2 = np.random.rand(n_intermediate, n_classes)\n",
    "\n",
    "# your code goes here"
   ]
  }
 ],
 "metadata": {
  "kernelspec": {
   "display_name": "Python 3 (ipykernel)",
   "language": "python",
   "name": "python3"
  },
  "language_info": {
   "codemirror_mode": {
    "name": "ipython",
    "version": 3
   },
   "file_extension": ".py",
   "mimetype": "text/x-python",
   "name": "python",
   "nbconvert_exporter": "python",
   "pygments_lexer": "ipython3",
   "version": "3.8.10"
  }
 },
 "nbformat": 4,
 "nbformat_minor": 5
}
